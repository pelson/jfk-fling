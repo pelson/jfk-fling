{
 "cells": [
  {
   "cell_type": "markdown",
   "metadata": {},
   "source": [
    "# Introduction to jfk-fling\n",
    "\n",
    "``jfk-fling`` is a Juptyter Kernel for the Fortran language, specifically designed for learning the Fortran language.\n",
    "\n",
    "The kernel allows you to execute code cells interactively and iteratively. The code to execute is parsed and then put into a form that is compiled and executed, with the return output being shown inline.\n",
    "\n",
    "For example, let's run a hello world print statement in Fortran."
   ]
  },
  {
   "cell_type": "code",
   "execution_count": null,
   "metadata": {},
   "outputs": [],
   "source": [
    "print *, \"Hello from jfk-fling!\""
   ]
  },
  {
   "cell_type": "markdown",
   "metadata": {},
   "source": [
    "jfk-fling works by aggregating all previously executed cells so that you can iteratively develop code in a natural fashion:"
   ]
  },
  {
   "cell_type": "code",
   "execution_count": null,
   "metadata": {},
   "outputs": [],
   "source": [
    "character (len = 40) :: message\n",
    "\n",
    "message = \"Hello from jfk-fling\""
   ]
  },
  {
   "cell_type": "code",
   "execution_count": null,
   "metadata": {},
   "outputs": [],
   "source": [
    "print *, message"
   ]
  }
 ],
 "metadata": {
  "kernelspec": {
   "display_name": "Fortran 2008",
   "language": "f2008",
   "name": "f2008"
  },
  "language_info": {
   "file_extension": "f90",
   "mimetype": "text/plain",
   "name": "fortran"
  }
 },
 "nbformat": 4,
 "nbformat_minor": 2
}
