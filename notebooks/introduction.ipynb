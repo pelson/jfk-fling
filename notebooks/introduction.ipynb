{
 "cells": [
  {
   "cell_type": "markdown",
   "metadata": {},
   "source": [
    "# Introduction to jfk-fling\n",
    "\n",
    "``jfk-fling`` is a Jupyter Kernel for the Fortran language, specifically designed for learning the Fortran language.\n",
    "\n",
    "The kernel allows you to execute code cells interactively and iteratively. The code to execute is parsed and then put into a form that is compiled and executed, with the return output being shown inline.\n",
    "\n",
    "For example, let's run a hello world print statement in Fortran."
   ]
  },
  {
   "cell_type": "code",
   "execution_count": null,
   "metadata": {},
   "outputs": [],
   "source": [
    "print *, \"Hello from jfk-fling!\""
   ]
  },
  {
   "cell_type": "markdown",
   "metadata": {},
   "source": [
    "jfk-fling works by aggregating all previously executed cells so that you can iteratively develop code in a natural fashion.\n",
    "\n",
    "For example, let's define a variable in one cell and use it in another:"
   ]
  },
  {
   "cell_type": "code",
   "execution_count": null,
   "metadata": {},
   "outputs": [],
   "source": [
    "character (len = 40) :: message\n",
    "\n",
    "message = \"Hello from jfk-fling\""
   ]
  },
  {
   "cell_type": "code",
   "execution_count": null,
   "metadata": {},
   "outputs": [],
   "source": [
    "print *, message"
   ]
  },
  {
   "cell_type": "markdown",
   "metadata": {},
   "source": [
    "We can define subroutines:"
   ]
  },
  {
   "cell_type": "code",
   "execution_count": null,
   "metadata": {},
   "outputs": [],
   "source": [
    "subroutine my_subroutine()\n",
    "    print *, \"Hello from my_subroutine\"\n",
    "end subroutine my_subroutine\n",
    "\n",
    "\n",
    "call my_subroutine()"
   ]
  },
  {
   "cell_type": "markdown",
   "metadata": {},
   "source": [
    "And functions:"
   ]
  },
  {
   "cell_type": "code",
   "execution_count": null,
   "metadata": {},
   "outputs": [],
   "source": [
    "function my_function()\n",
    "    print *, \"Hello from my function\"\n",
    "    my_function = 42\n",
    "end function my_function\n",
    "\n",
    "\n",
    "result = my_function()"
   ]
  },
  {
   "cell_type": "markdown",
   "metadata": {},
   "source": [
    "## Important implementation detail regarding jfk-fling\n",
    "\n",
    "Whilst it may appear that cells are being executed iteratively, each cell is in fact an entirely independent execution environment with each cell being gathered together cumulatively.\n",
    "\n",
    "This has two major implications:\n",
    "\n",
    " 1. Run time will typically *always* increase as more cells are executed.\n",
    " 2. You can't re-define previously defined entities.\n",
    " \n",
    "Let's take a look at the code that we have aggregated so far:"
   ]
  },
  {
   "cell_type": "code",
   "execution_count": null,
   "metadata": {},
   "outputs": [],
   "source": [
    "%code"
   ]
  },
  {
   "cell_type": "markdown",
   "metadata": {},
   "source": [
    "As you can see, we are re-running **all** of the code that has previously been written in the cells, but are applying a few tricks (like stdout/stderr redirection) to make it look like only the last cell is being executed.\n",
    "\n",
    "If at any point you wish to wipe the cells that have been accumulated, the ``%clear`` magic can be used."
   ]
  },
  {
   "cell_type": "code",
   "execution_count": null,
   "metadata": {},
   "outputs": [],
   "source": [
    "%clear"
   ]
  },
  {
   "cell_type": "markdown",
   "metadata": {},
   "source": [
    "We can see that the current code is now in the most basic form possible:"
   ]
  },
  {
   "cell_type": "code",
   "execution_count": null,
   "metadata": {},
   "outputs": [],
   "source": [
    "%code"
   ]
  },
  {
   "cell_type": "markdown",
   "metadata": {},
   "source": [
    "# Choice of source form\n",
    "\n",
    "jfk-fling supports a number of source forms. We have already seen the simplest form: a collection of Fortran statements such as ``print *, \"Hello world!\"``. Additionally we may issue simple declarations such as ``integer :: my_int`` as well as subroutine and function definitions.\n",
    "\n",
    "Going one step further, complete program and module definitions are supported:"
   ]
  },
  {
   "cell_type": "code",
   "execution_count": null,
   "metadata": {},
   "outputs": [],
   "source": [
    "MODULE my_module\n",
    "    REAL :: pi = 3.14\n",
    "END MODULE my_module"
   ]
  },
  {
   "cell_type": "code",
   "execution_count": null,
   "metadata": {},
   "outputs": [],
   "source": [
    "PROGRAM my_program\n",
    "    USE my_module\n",
    "    print *, \"Pi: \", pi\n",
    "END PROGRAM my_program"
   ]
  },
  {
   "cell_type": "markdown",
   "metadata": {},
   "source": [
    "# Error handling\n",
    "\n",
    "Errors may come from a number of sources with jfk-fling:\n",
    "\n",
    "1. Invalid syntax"
   ]
  },
  {
   "cell_type": "code",
   "execution_count": null,
   "metadata": {},
   "outputs": [],
   "source": [
    "This is invalid Fortran syntax"
   ]
  },
  {
   "cell_type": "markdown",
   "metadata": {},
   "source": [
    "2. Redefinition of entities"
   ]
  },
  {
   "cell_type": "code",
   "execution_count": null,
   "metadata": {},
   "outputs": [],
   "source": [
    "INTEGER :: my_number"
   ]
  },
  {
   "cell_type": "code",
   "execution_count": null,
   "metadata": {},
   "outputs": [],
   "source": [
    "REAL :: my_number"
   ]
  },
  {
   "cell_type": "markdown",
   "metadata": {},
   "source": [
    "3. Runtime errors (e.g Segmentation Fault)\n",
    "\n",
    "..."
   ]
  },
  {
   "cell_type": "markdown",
   "metadata": {},
   "source": [
    "In all scenarios, jfk-fling will drop the offending cell in subsequent cell accumulations.\n",
    "\n",
    "The exception to this is the STOP statement, which persists:"
   ]
  },
  {
   "cell_type": "code",
   "execution_count": null,
   "metadata": {},
   "outputs": [],
   "source": [
    "STOP 'Error!'"
   ]
  },
  {
   "cell_type": "code",
   "execution_count": null,
   "metadata": {},
   "outputs": [],
   "source": [
    "print*, 'Hello'"
   ]
  },
  {
   "cell_type": "code",
   "execution_count": null,
   "metadata": {},
   "outputs": [],
   "source": [
    "%clear"
   ]
  },
  {
   "cell_type": "markdown",
   "metadata": {},
   "source": [
    "## Fragments\n",
    "\n",
    "Sometimes it is useful to separate blocks of logically consistent code into separate cells. For this the ``%%fragment`` magic should be used.\n",
    "For example the definition of an object must occur at the same time as its methods, but sometimes it is nice to separate these into distinct cells:"
   ]
  },
  {
   "cell_type": "code",
   "execution_count": null,
   "metadata": {},
   "outputs": [],
   "source": [
    "%%fragment\n",
    "\n",
    "MODULE aclass_module\n",
    "\n",
    "TYPE AClass\n",
    "    INTEGER :: an_attribute\n",
    "  CONTAINS\n",
    "    PROCEDURE :: a_method\n",
    "END TYPE AClass"
   ]
  },
  {
   "cell_type": "code",
   "execution_count": null,
   "metadata": {},
   "outputs": [],
   "source": [
    "! Here we continue the aclass_module definition...\n",
    "\n",
    "CONTAINS\n",
    "    SUBROUTINE a_method(this, an_attribute)\n",
    "        class(AClass) :: this\n",
    "        integer :: an_attribute\n",
    "\n",
    "        this%an_attribute = an_attribute\n",
    "    END SUBROUTINE a_method\n",
    "\n",
    "END MODULE aclass_module"
   ]
  },
  {
   "cell_type": "code",
   "execution_count": null,
   "metadata": {},
   "outputs": [],
   "source": [
    "use aclass_module\n",
    "\n",
    "TYPE(AClass) :: an_instance\n",
    "\n",
    "call an_instance%a_method(10)\n",
    "\n",
    "print *, an_instance%an_attribute"
   ]
  },
  {
   "cell_type": "code",
   "execution_count": null,
   "metadata": {},
   "outputs": [],
   "source": [
    "%code"
   ]
  }
 ],
 "metadata": {
  "kernelspec": {
   "display_name": "Fortran 2008",
   "language": "f2008",
   "name": "f2008"
  },
  "language_info": {
   "file_extension": ".f90",
   "mimetype": "text/plain",
   "name": "fortran"
  }
 },
 "nbformat": 4,
 "nbformat_minor": 2
}
