{
 "cells": [
  {
   "cell_type": "markdown",
   "metadata": {},
   "source": [
    "# Introduction to jfk-fling\n",
    "\n",
    "``jfk-fling`` is a Jupyter Kernel for the Fortran language, specifically designed for learning the Fortran language.\n",
    "\n",
    "The kernel allows you to execute code cells interactively and iteratively. The code to execute is parsed and then put into a form that is compiled and executed, with the return output being shown inline.\n",
    "\n",
    "For example, let's run a hello world print statement in Fortran."
   ]
  },
  {
   "cell_type": "code",
   "execution_count": null,
   "metadata": {},
   "outputs": [],
   "source": [
    "print *, \"Hello from jfk-fling!\""
   ]
  },
  {
   "cell_type": "markdown",
   "metadata": {},
   "source": [
    "jfk-fling works by aggregating all previously executed cells so that you can iteratively develop code in a natural fashion.\n",
    "\n",
    "For example, let's define a variable in one cell and use it in another:"
   ]
  },
  {
   "cell_type": "code",
   "execution_count": null,
   "metadata": {},
   "outputs": [],
   "source": [
    "character (len = 40) :: message\n",
    "\n",
    "message = \"Hello from jfk-fling\""
   ]
  },
  {
   "cell_type": "code",
   "execution_count": null,
   "metadata": {},
   "outputs": [],
   "source": [
    "print *, message"
   ]
  },
  {
   "cell_type": "markdown",
   "metadata": {},
   "source": [
    "We can define subroutines:"
   ]
  },
  {
   "cell_type": "code",
   "execution_count": null,
   "metadata": {},
   "outputs": [],
   "source": [
    "subroutine my_subroutine()\n",
    "    print *, \"Hello from my_subroutine\"\n",
    "end subroutine my_subroutine\n",
    "\n",
    "\n",
    "call my_subroutine()"
   ]
  },
  {
   "cell_type": "markdown",
   "metadata": {},
   "source": [
    "And functions:"
   ]
  },
  {
   "cell_type": "code",
   "execution_count": null,
   "metadata": {},
   "outputs": [],
   "source": [
    "function my_function()\n",
    "    print *, \"Hello from my function\"\n",
    "    my_function = 42\n",
    "end function my_function\n",
    "\n",
    "\n",
    "result = my_function()"
   ]
  },
  {
   "cell_type": "markdown",
   "metadata": {},
   "source": [
    "Whilst it may appear that cells are being executed iteratively, each cell is in fact an entirely independent execution environment with each cell being gathered together cumulatively.\n",
    "\n",
    "This has two major implications:\n",
    "\n",
    " 1. Run time will typically *always* increase as more cells are executed.\n",
    " 2. You can't re-define previously defined items.\n",
    " \n",
    "Let's take a look at the code that we have aggregated so far:"
   ]
  },
  {
   "cell_type": "code",
   "execution_count": null,
   "metadata": {},
   "outputs": [],
   "source": [
    "%code"
   ]
  },
  {
   "cell_type": "markdown",
   "metadata": {},
   "source": [
    "As you can see, we are re-running **all** of the code that has previously been written in the cells, but are applying a few tricks (like stdout/stderr redirection) to make it look like only the last cell is being executed.\n",
    "\n",
    "If at any point you wish to wipe the cells that have been accumulated, the ``%clear`` magic can be used."
   ]
  },
  {
   "cell_type": "code",
   "execution_count": null,
   "metadata": {},
   "outputs": [],
   "source": [
    "%clear"
   ]
  },
  {
   "cell_type": "markdown",
   "metadata": {},
   "source": [
    "We can see that the current code is now in the most basic form possible:"
   ]
  },
  {
   "cell_type": "code",
   "execution_count": null,
   "metadata": {},
   "outputs": [],
   "source": [
    "%code"
   ]
  }
 ],
 "metadata": {
  "kernelspec": {
   "display_name": "Fortran 2008",
   "language": "f2008",
   "name": "f2008"
  },
  "language_info": {
   "file_extension": ".f90",
   "mimetype": "text/plain",
   "name": "fortran"
  }
 },
 "nbformat": 4,
 "nbformat_minor": 2
}
